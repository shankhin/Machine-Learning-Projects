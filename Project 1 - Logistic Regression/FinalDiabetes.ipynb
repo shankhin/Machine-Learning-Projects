{
  "nbformat": 4,
  "nbformat_minor": 0,
  "metadata": {
    "colab": {
      "name": "FinalDiabetes.ipynb",
      "provenance": [],
      "collapsed_sections": []
    },
    "kernelspec": {
      "name": "python3",
      "display_name": "Python 3"
    },
    "language_info": {
      "name": "python"
    }
  },
  "cells": [
    {
      "cell_type": "code",
      "metadata": {
        "colab": {
          "base_uri": "https://localhost:8080/"
        },
        "id": "JSAQwBdUU2Y6",
        "outputId": "e558087a-a647-4f70-d004-bfc4eec5a47c"
      },
      "source": [
        "from google.colab import drive\n",
        "from matplotlib import pyplot as plt\n",
        "drive.mount('/content/gdrive')\n",
        "import pandas as pd, numpy as np\n",
        "df_data = pd.read_csv('/content/gdrive/MyDrive/Colab Notebooks/diabetes.csv') #diabetes.csv must be inside the colab notebooks file"
      ],
      "execution_count": null,
      "outputs": [
        {
          "output_type": "stream",
          "name": "stdout",
          "text": [
            "Drive already mounted at /content/gdrive; to attempt to forcibly remount, call drive.mount(\"/content/gdrive\", force_remount=True).\n"
          ]
        }
      ]
    },
    {
      "cell_type": "code",
      "metadata": {
        "id": "jEyNLrCqKRut"
      },
      "source": [
        "with open(\"/content/gdrive/MyDrive/Colab Notebooks/diabetes.csv\") as file_name:\n",
        "    data = np.loadtxt(file_name, delimiter=\",\")\n",
        "    x = data[:,[0,1,2,3,4,5,6,7]]\n",
        "    y = data[:,8]"
      ],
      "execution_count": null,
      "outputs": []
    },
    {
      "cell_type": "code",
      "metadata": {
        "colab": {
          "base_uri": "https://localhost:8080/",
          "height": 281
        },
        "id": "Cc5HNn_heQYP",
        "outputId": "9bf63c71-a5fb-4645-c806-e4f1810e4ec9"
      },
      "source": [
        "plt.hist(y, bins = 'auto')\n",
        "plt.title(\"Class Distribution\") #more datapoints in class 0\n",
        "plt.show()"
      ],
      "execution_count": null,
      "outputs": [
        {
          "output_type": "display_data",
          "data": {
            "image/png": "[encoded data removed]",
            "text/plain": [
              "<Figure size 432x288 with 1 Axes>"
            ]
          },
          "metadata": {
            "needs_background": "light"
          }
        }
      ]
    },
    {
      "cell_type": "code",
      "metadata": {
        "id": "4ZXLoQtvGU0L"
      },
      "source": [
        "def sigmoid(x): #sigmoid function\n",
        "  return 1/(1+np.exp(-x))"
      ],
      "execution_count": null,
      "outputs": []
    },
    {
      "cell_type": "code",
      "metadata": {
        "id": "XIFTYHtonyz9"
      },
      "source": [
        "class LR():\n",
        "\n",
        "  def __init__(self, X, Y, alphak): #alphak is learning rate\n",
        "    self.X = X\n",
        "    self.Y = Y\n",
        "    self.m = X.T.shape[1]\n",
        "    self.n = X.T.shape[0]\n",
        "    self.W = np.zeros((self.n,1)) #W is the weights for each feature\n",
        "    self.alphak = alphak\n",
        "\n",
        "  def fit(self, k): #k is number of iterations\n",
        "    Xtrans = self.X.T\n",
        "    Ytrans = self.Y.T\n",
        "    CEL_List = []\n",
        "    for i in range(k):\n",
        "      A = sigmoid(np.dot(self.W.T,Xtrans)) #A is the log odds ratio\n",
        "      CEL = -1*np.sum(self.Y*np.log(A)+(1-self.Y)*np.log(1-A))\n",
        "      dW = (1/self.m)*np.dot(A-self.Y,self.X)\n",
        "      self.W = self.W - self.alphak*dW.T\n",
        "      CEL_List.append(CEL)\n",
        "      # if(i%(k/10)==0):\n",
        "        # print(\"CEL after \", i ,\" iteration is: \", CEL)\n",
        "    return CEL_List\n",
        "\n",
        "  def predict(self):\n",
        "    Xtrans = self.X.T\n",
        "    A = sigmoid(np.dot(self.W.T,Xtrans)) \n",
        "    A = A > 0.5\n",
        "    A = np.array(A,dtype='int64')\n",
        "    return A\n",
        "    \n",
        "  def accu_eval(self):\n",
        "    A = self.predict() \n",
        "    acc = (1-np.sum(np.absolute(A-self.Y))/self.Y.shape[0])*100\n",
        "    return acc"
      ],
      "execution_count": null,
      "outputs": []
    },
    {
      "cell_type": "code",
      "metadata": {
        "id": "mkvEzrcmPjcb"
      },
      "source": [
        "class LRWithBias():\n",
        "  def __init__(self, X, Y, alphak): #alphak is learning rate\n",
        "    self.X = X\n",
        "    self.Y = Y\n",
        "    self.m = X.T.shape[1]\n",
        "    self.n = X.T.shape[0]\n",
        "    self.W = np.zeros((self.n,1)) #W is the weights for each feature\n",
        "    self.alphak = alphak\n",
        "    self.bias = 0 #bias added to prevent overfitting and increase accuracy\n",
        "\n",
        "  def fit(self,k): #alphak is learning rate and k is number of iterations\n",
        "    Xtrans = self.X.T\n",
        "    Ytrans = self.Y.T\n",
        "    CEL_List = []\n",
        "    for i in range(k):\n",
        "      A = sigmoid(np.dot(self.W.T,Xtrans)+self.bias) #A is the log odds ratio\n",
        "      CEL = -1*np.sum(self.Y*np.log(A)+(1-self.Y)*np.log(1-A))\n",
        "      dW = (1/self.m)*np.dot(A-self.Y,Xtrans.T)\n",
        "      dBias = (1/self.m)*np.sum(A-self.Y)\n",
        "      self.W = self.W - self.alphak*dW.T\n",
        "      self.bias = self.bias - self.alphak*dBias\n",
        "      CEL_List.append(CEL)\n",
        "      #if(i%(k/10)==0):\n",
        "        #print(\"CEL after \", i ,\" iteration is: \", CEL)\n",
        "    return CEL_List\n",
        "\n",
        "  def predict(self):\n",
        "    Xtrans = self.X.T\n",
        "    A = sigmoid(np.dot(self.W.T,Xtrans)+self.bias) \n",
        "    A = A > 0.5\n",
        "    A = np.array(A,dtype='int64')\n",
        "    return A\n",
        "    \n",
        "  def accu_eval(self):\n",
        "    A = self.predict() \n",
        "    acc = (1-np.sum(np.absolute(A-self.Y))/self.Y.shape[0])*100\n",
        "    return acc"
      ],
      "execution_count": null,
      "outputs": []
    },
    {
      "cell_type": "code",
      "metadata": {
        "id": "_MisTRbtRbth",
        "colab": {
          "base_uri": "https://localhost:8080/"
        },
        "outputId": "dd0d4726-5462-48d3-a684-fe67d7287718"
      },
      "source": [
        "it = 10000\n",
        "lr = 2.5\n",
        "\n",
        "lrModel = LR(x,y,lr)\n",
        "clist2 = lrModel.fit(it)\n",
        "print(\"Accuracy is:\", lrModel.accu_eval())\n",
        "lrBiasModel = LRWithBias(x,y,lr)\n",
        "clist1 = lrBiasModel.fit(it)\n",
        "print(\"Accuracy (with Bias) is:\", lrBiasModel.accu_eval())"
      ],
      "execution_count": null,
      "outputs": [
        {
          "output_type": "stream",
          "name": "stdout",
          "text": [
            "Accuracy is: 67.5\n",
            "Accuracy (with Bias) is: 74.5\n"
          ]
        }
      ]
    },
    {
      "cell_type": "code",
      "metadata": {
        "id": "4wYKRIjjSTXP",
        "colab": {
          "base_uri": "https://localhost:8080/",
          "height": 295
        },
        "outputId": "3972533c-48a4-44b7-b0e7-ed4a5cecd3b6"
      },
      "source": [
        "plt.plot(np.arange(it),clist1)\n",
        "plt.plot(np.arange(it),clist2)\n",
        "plt.xlabel(\"Number of iterations\")\n",
        "plt.ylabel(\"Cross Entropy Loss\")\n",
        "plt.title(\"Cross Entropy Loss vs Number of iterations (for LR with bias and without bias)\")\n",
        "plt.show() #We find that CEL for LR with bias is lower than without bias at every iteration"
      ],
      "execution_count": null,
      "outputs": [
        {
          "output_type": "display_data",
          "data": {
            "image/png": "[encoded data removed]",
            "text/plain": [
              "<Figure size 432x288 with 1 Axes>"
            ]
          },
          "metadata": {
            "needs_background": "light"
          }
        }
      ]
    },
    {
      "cell_type": "code",
      "metadata": {
        "id": "Uv04mZIir2uf"
      },
      "source": [
        "class kfold_split():\n",
        "\n",
        "  def __init__(self, x, y, folds):\n",
        "    self.x = x\n",
        "    self.y = y\n",
        "    np.random.shuffle(x)\n",
        "    np.random.shuffle(y)\n",
        "    self.folds = folds\n",
        "    self.splits = self.split()\n",
        "\n",
        "  def split(self):\n",
        "    xSplit = np.array_split(self.x, self.folds)\n",
        "    ySplit = np.array_split(self.y, self.folds)\n",
        "    return [xSplit, ySplit]\n",
        "    \n",
        "  def crossValidate(self, lr, iterations):\n",
        "    accuracies = []\n",
        "    for i in range(self.folds):\n",
        "      x = self.splits[0][i]\n",
        "      y = self.splits[1][i]\n",
        "      model = LR(x, y, lr)\n",
        "      model.fit(iterations)\n",
        "      accuracies.append(model.accu_eval())\n",
        "    return np.mean(accuracies)\n",
        "\n",
        "  def crossValidateWithBias(self, lr, iterations):\n",
        "    accuracies = []\n",
        "    for i in range(self.folds):\n",
        "      x = self.splits[0][i]\n",
        "      y = self.splits[1][i]\n",
        "      model = LRWithBias(x, y, lr)\n",
        "      model.fit(iterations)\n",
        "      accuracies.append(model.accu_eval())\n",
        "    return np.mean(accuracies)"
      ],
      "execution_count": null,
      "outputs": []
    },
    {
      "cell_type": "code",
      "metadata": {
        "id": "uqKAGq1cxsxY",
        "colab": {
          "base_uri": "https://localhost:8080/"
        },
        "outputId": "07027344-8fc9-442f-c749-826b0489d7e9"
      },
      "source": [
        "tenFold = kfold_split(x, y, 10)\n",
        "print(\"Cross Validation accuracy:\", tenFold.crossValidate(lr, it))\n",
        "print(\"Cross Validation accuracy (with Bias):\", tenFold.crossValidateWithBias(lr,it))"
      ],
      "execution_count": null,
      "outputs": [
        {
          "output_type": "stream",
          "name": "stdout",
          "text": [
            "Cross Validation accuracy: 66.16666666666666\n",
            "Cross Validation accuracy (with Bias): 68.5\n"
          ]
        }
      ]
    },
    {
      "cell_type": "code",
      "metadata": {
        "id": "dT20NSiKvzJy"
      },
      "source": [
        "lrRange = np.linspace(0, 15, 10)\n",
        "r = []\n",
        "for i in lrRange:\n",
        "  r.append(tenFold.crossValidateWithBias(i, it))"
      ],
      "execution_count": null,
      "outputs": []
    },
    {
      "cell_type": "code",
      "metadata": {
        "colab": {
          "base_uri": "https://localhost:8080/",
          "height": 421
        },
        "id": "nx7oYRGH6A1g",
        "outputId": "3a0d23ce-11e9-4833-89da-f424ca1bd1c9"
      },
      "source": [
        "plt.figure(figsize=(8, 6))\n",
        "plt.plot(lrRange, r)\n",
        "plt.xlabel(\"Learning rate\")\n",
        "plt.ylabel(\"Accuracy\")\n",
        "plt.title(\"Learning rate (LR with bias) vs Accuracy (for set number of iterations)\")"
      ],
      "execution_count": null,
      "outputs": [
        {
          "output_type": "execute_result",
          "data": {
            "text/plain": [
              "Text(0.5, 1.0, 'Learning rate (LR with bias) vs Accuracy (for set number of iterations)')"
            ]
          },
          "metadata": {},
          "execution_count": 493
        },
        {
          "output_type": "display_data",
          "data": {
            "image/png": "[encoded data removed]",
            "text/plain": [
              "<Figure size 576x432 with 1 Axes>"
            ]
          },
          "metadata": {
            "needs_background": "light"
          }
        }
      ]
    },
    {
      "cell_type": "code",
      "metadata": {
        "colab": {
          "base_uri": "https://localhost:8080/",
          "height": 573
        },
        "id": "ZCB3kPDq9cKf",
        "outputId": "26704e54-8baf-4df4-bc98-2ed4a796168a"
      },
      "source": [
        "xRange = range(8)\n",
        "plt.bar(xRange, np.ndarray.flatten(lrModel.W))\n",
        "plt.xlabel(\"Index of feature in feature vector\")\n",
        "plt.ylabel(\"Coefficient of feature\")\n",
        "plt.title(\"Regular LR model\")\n",
        "plt.show()\n",
        "plt.title(\"LR with bias model\")\n",
        "plt.bar(xRange, np.ndarray.flatten(lrBiasModel.W))\n",
        "plt.xlabel(\"Index of feature in feature vector\")\n",
        "plt.ylabel(\"Coefficient of feature\")\n",
        "plt.show()"
      ],
      "execution_count": null,
      "outputs": [
        {
          "output_type": "display_data",
          "data": {
            "image/png": "[encoded data removed]",
            "text/plain": [
              "<Figure size 432x288 with 1 Axes>"
            ]
          },
          "metadata": {
            "needs_background": "light"
          }
        },
        {
          "output_type": "display_data",
          "data": {
            "image/png": "[encoded data removed]",
            "text/plain": [
              "<Figure size 432x288 with 1 Axes>"
            ]
          },
          "metadata": {
            "needs_background": "light"
          }
        }
      ]
    },
    {
      "cell_type": "code",
      "metadata": {
        "colab": {
          "base_uri": "https://localhost:8080/"
        },
        "id": "pYVpZieTuIS8",
        "outputId": "3368bb6d-091c-46b0-9fd3-3e234c6ae22e"
      },
      "source": [
        "newx = np.delete(x,3,1) #Deleting 3rd feature\n",
        "tenFold = kfold_split(newx, y, 10)\n",
        "print(\"Cross Validation accuracy:\", tenFold.crossValidate(lr, it))\n",
        "print(\"Cross Validation accuracy (with Bias):\", tenFold.crossValidateWithBias(lr,it))\n"
      ],
      "execution_count": null,
      "outputs": [
        {
          "output_type": "stream",
          "name": "stdout",
          "text": [
            "Cross Validation accuracy: 62.0\n",
            "Cross Validation accuracy (with Bias): 62.666666666666664\n"
          ]
        }
      ]
    },
    {
      "cell_type": "code",
      "metadata": {
        "colab": {
          "base_uri": "https://localhost:8080/"
        },
        "id": "wxh1C1zoxM0u",
        "outputId": "73015548-6fc6-49cd-ec4a-8e0e86729049"
      },
      "source": [
        "extract = x[:,1] #adding square of feature 1 to existing features\n",
        "sqextract = np.square(extract)\n",
        "sqextract = sqextract.reshape(sqextract.shape[0],1)\n",
        "newx = np.hstack((x,sqextract))\n",
        "tenFold = kfold_split(newx, y, 10)\n",
        "print(\"Cross Validation accuracy:\", tenFold.crossValidate(lr, it))\n",
        "print(\"Cross Validation accuracy (with Bias):\", tenFold.crossValidateWithBias(lr,it))\n"
      ],
      "execution_count": null,
      "outputs": [
        {
          "output_type": "stream",
          "name": "stdout",
          "text": [
            "Cross Validation accuracy: 69.16666666666666\n",
            "Cross Validation accuracy (with Bias): 69.33333333333333\n"
          ]
        }
      ]
    }
  ]
}